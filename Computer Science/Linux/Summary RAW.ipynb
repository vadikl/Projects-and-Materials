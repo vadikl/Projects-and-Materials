{
 "cells": [
  {
   "cell_type": "markdown",
   "metadata": {},
   "source": [
    "### apt and apt-get\n",
    "```apt``` (Advanced Packaging Tool) is just a package manager for Linux. It is responsible for packages **installing, updating, deleting and searching.** This package manager is used in **Ubuntu and Debian distributives.** For apt controlling there are the following commands ```apt-get``` and ```apt```. apt also controls the repositories. List of all repositories is stored in: ```/etc/apt/sources.list```\n",
    "\n",
    "### Difference betwenn apt and apt-get\n",
    "```apt``` appeared as an alternative to ```apt-get```. It has the same functionality as ```apt-get``` and it's much easier to work with ```apt``` However, ```apt-get``` is more flexible as it has aditional commands.\n",
    "\n",
    "### Commands\n",
    "- ```sudo apt {action} {packages} {additional params}``` - the main syntaxis of ```apt``` command \n",
    "- ```sudo apt update``` - updates list of packages (knows that new packages updates are available)\n",
    "- ```sudo apt upgrade``` - only updates packages to new versions. It neither deletes nor installs other packages\n",
    "- ```sudo apt full-upgrade``` - updates packages as well as deletes and installs new ones\n",
    "\n",
    "#### Package Installation\n",
    "- ```sudo apt install {pkg_name}``` - installs a package\n",
    "- ```sudo apt install {pkg_name_1} {pkg_name_2} ... {pkg_name_n}``` - installs several packages\n",
    "- ```sudo apt install {pkg_name}={version}``` - installs a certain package version\n",
    "\n",
    "#### Package Deletion\n",
    "- ```sudo apt remove {pkg_name}``` - removes a package\n",
    "- ```sudo apt purge {pkg_name}``` - removes a package and its configuration\n",
    "- ```sudo apt autoremove``` - removes all package dependencies \n",
    "\n",
    "#### Packages List\n",
    "- ```apt list--{condition}``` - list packages according to a certain condition\n",
    "- ```apt list--installed``` - lists only installed packages\n",
    "- ```apt list--upgradable``` - lists packages that requires updates\n",
    "- ```apt list--all-versions``` - lists packages available for the current system\n",
    "\n",
    "#### Packages Searching \n",
    "- ```apt search {word}``` - searches a package according to a provided word\n",
    "- ```apt search--names-only {word}``` - searches by names of a package\n",
    "- ```apt show {pkg_name}``` - returns info about a package (version, size, dependencies and so on)\n"
   ]
  },
  {
   "cell_type": "markdown",
   "metadata": {},
   "source": [
    "### sudo\n",
    "```sudo``` stands for **substitute user and do or superuser do.** It allows executing commands using superuser rights like ```root``` or other users."
   ]
  },
  {
   "cell_type": "markdown",
   "metadata": {},
   "source": [
    "### Flags \n",
    "- ```-y``` - stands for yes \n"
   ]
  }
 ],
 "metadata": {
  "kernelspec": {
   "display_name": "Python 3",
   "language": "python",
   "name": "python3"
  },
  "language_info": {
   "codemirror_mode": {
    "name": "ipython",
    "version": 3
   },
   "file_extension": ".py",
   "mimetype": "text/x-python",
   "name": "python",
   "nbconvert_exporter": "python",
   "pygments_lexer": "ipython3",
   "version": "3.7.9"
  }
 },
 "nbformat": 4,
 "nbformat_minor": 4
}
