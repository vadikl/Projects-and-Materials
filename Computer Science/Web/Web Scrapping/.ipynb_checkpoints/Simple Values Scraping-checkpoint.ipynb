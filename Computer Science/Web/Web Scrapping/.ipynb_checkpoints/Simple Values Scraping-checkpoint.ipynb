{
 "cells": [
  {
   "cell_type": "code",
   "execution_count": 1,
   "metadata": {},
   "outputs": [],
   "source": [
    "import requests\n",
    "import fake_useragent\n",
    "from bs4 import BeautifulSoup"
   ]
  },
  {
   "cell_type": "code",
   "execution_count": 60,
   "metadata": {},
   "outputs": [
    {
     "name": "stdout",
     "output_type": "stream",
     "text": [
      "JavaScript is: выключено\n",
      "Flash is: отсутствует/выключен\n",
      "User-agent is: User-agent: Mozilla/5.0 (Windows NT 5.1) AppleWebKit/537.36 (KHTML, like Gecko) Chrome/35.0.2117.157 Safari/537.36\n"
     ]
    }
   ],
   "source": [
    "link = 'https://browser-info.ru/'\n",
    "\n",
    "'''\n",
    "requests.get(link).content: returns bites that can be written later (pics or other content. Write in a file)\n",
    "\n",
    "requests.get(link).text: returns HTML code of a page\n",
    "\n",
    "'''\n",
    "\n",
    "# Creating Fake User Agents\n",
    "user = fake_useragent.UserAgent().random # Every time random user-agent values will be created\n",
    "\n",
    "# Set Headers (can be looked up in a browser)\n",
    "header = {'user-agent': user}\n",
    "\n",
    "# Use Method GET\n",
    "response = requests.get(link, headers = header).text \n",
    "page = BeautifulSoup(response, 'lxml')\n",
    "\n",
    "block = page.find('div', id='tool_padding')\n",
    "\n",
    "# JavaScript\n",
    "js = block.find('div', id='javascript_check')\n",
    "status_js = js.find_all('span')[1].text\n",
    "res_js = f'JavaScript is: {status_js}'\n",
    "\n",
    "# Flash\n",
    "flash = block.find('div', id='flash_version')\n",
    "status_flash = flash.find_all('span')[1].text\n",
    "res_flash = f'Flash is: {status_flash}'\n",
    "\n",
    "# User-agent\n",
    "user_agent = block.find('div', id='user_agent').text\n",
    "res_user_agent = f'User-agent is: {user_agent}'\n",
    "\n",
    "print(res_js + '\\n' + res_flash + '\\n' + res_user_agent)"
   ]
  },
  {
   "cell_type": "code",
   "execution_count": null,
   "metadata": {},
   "outputs": [],
   "source": [
    "'''\n",
    "Many websites keep track on User-agent value. If they see a User-agent value like python-requests/2.24.0,\n",
    "They understand that it's a parser. To avoid this, user-agent value must be substituted (using fake-useragent module)\n",
    "\n",
    "'''"
   ]
  }
 ],
 "metadata": {
  "kernelspec": {
   "display_name": "Python 3",
   "language": "python",
   "name": "python3"
  },
  "language_info": {
   "codemirror_mode": {
    "name": "ipython",
    "version": 3
   },
   "file_extension": ".py",
   "mimetype": "text/x-python",
   "name": "python",
   "nbconvert_exporter": "python",
   "pygments_lexer": "ipython3",
   "version": "3.7.9"
  }
 },
 "nbformat": 4,
 "nbformat_minor": 4
}
