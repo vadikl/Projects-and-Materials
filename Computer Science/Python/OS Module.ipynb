{
 "cells": [
  {
   "cell_type": "markdown",
   "metadata": {},
   "source": [
    "### Miscellaneous operating system interfaces OS\n",
    "Flexible module for dealing with files, cmd commands and directories\n",
    "\n",
    "### Methods \n",
    "- **os.getcwd( )** - get current working directory \n",
    "- **os.makedir(' folder_name ' )** - creates an empty folder ( more appropriate to say directory )\n",
    "- **os.isdir(' folder_name ' )** - checks whether directory exhists or not \n",
    "- **os.chdir(' path ' )** - changes current directory\n",
    "- **os.chdir( \"..\" )** - returns in previous directory\n",
    "- **os.makedirs( 'fol_name_1 / fol_name_2 / fol_name_n ' )** - creates nested folders\n",
    "- **os.rename(' old_name.txt ', ' new_name.txt ' )**  - renames files\n",
    "- **os.replace(' file_name.txt ', ' new_path ' )** - replaces selected file location\n",
    "- **os.listdir( )** - lists all files and folders (everything in a directory)\n",
    "- **os.path.join(' path ', ' file_name.txt ')** - joins path and file name\n",
    "- **os.remove(' file_name.txt ' )** - deletes selected file\n",
    "- **os.rmdir(' folder_name ')** - deletes selected directory \n",
    "- **os.removedirs( 'fol_name_1 / fol_name_2 / fol_name_n ' )** - deletes several folders\n",
    "\n",
    "\n",
    "\n",
    "fol_name - folder_name\n"
   ]
  },
  {
   "cell_type": "code",
   "execution_count": 51,
   "metadata": {},
   "outputs": [],
   "source": [
    "import os"
   ]
  },
  {
   "cell_type": "code",
   "execution_count": 52,
   "metadata": {},
   "outputs": [
    {
     "data": {
      "text/plain": [
       "'D:\\\\ML\\\\Kaggle'"
      ]
     },
     "execution_count": 52,
     "metadata": {},
     "output_type": "execute_result"
    }
   ],
   "source": [
    "os.getcwd()"
   ]
  },
  {
   "cell_type": "code",
   "execution_count": 54,
   "metadata": {},
   "outputs": [
    {
     "data": {
      "text/plain": [
       "'D:\\\\ML\\\\Kaggle\\\\Datasets\\\\Regression\\\\Imbalanced target'"
      ]
     },
     "execution_count": 54,
     "metadata": {},
     "output_type": "execute_result"
    }
   ],
   "source": [
    "os.chdir('D:\\ML\\Kaggle\\Datasets\\Regression\\Imbalanced target')\n",
    "os.getcwd()"
   ]
  },
  {
   "cell_type": "code",
   "execution_count": 55,
   "metadata": {},
   "outputs": [
    {
     "data": {
      "text/plain": [
       "True"
      ]
     },
     "execution_count": 55,
     "metadata": {},
     "output_type": "execute_result"
    }
   ],
   "source": [
    "os.makedirs('new_folder')\n",
    "os.path.isdir('new_folder')"
   ]
  },
  {
   "cell_type": "code",
   "execution_count": 56,
   "metadata": {},
   "outputs": [],
   "source": [
    "os.chdir('..\\..\\..')\n",
    "os.getcwd()"
   ]
  },
  {
   "cell_type": "code",
   "execution_count": 59,
   "metadata": {},
   "outputs": [],
   "source": [
    "os.chdir('Datasets\\Regression')\n",
    "os.getcwd()"
   ]
  },
  {
   "cell_type": "code",
   "execution_count": 61,
   "metadata": {},
   "outputs": [
    {
     "data": {
      "text/plain": [
       "['Car_Price.csv',\n",
       " 'Dissolved_oxygen_prediction_in_river',\n",
       " 'Fish.csv',\n",
       " 'Housing.csv',\n",
       " 'Imbalanced target',\n",
       " 'insurance.csv',\n",
       " 'predict_electric_car_temp.csv',\n",
       " 'Predict_Fuel_Consumption',\n",
       " 'Predict_Number_of_Upvotes']"
      ]
     },
     "execution_count": 61,
     "metadata": {},
     "output_type": "execute_result"
    }
   ],
   "source": [
    "os.listdir()"
   ]
  }
 ],
 "metadata": {
  "kernelspec": {
   "display_name": "Python 3",
   "language": "python",
   "name": "python3"
  },
  "language_info": {
   "codemirror_mode": {
    "name": "ipython",
    "version": 3
   },
   "file_extension": ".py",
   "mimetype": "text/x-python",
   "name": "python",
   "nbconvert_exporter": "python",
   "pygments_lexer": "ipython3",
   "version": "3.6.1"
  }
 },
 "nbformat": 4,
 "nbformat_minor": 2
}
