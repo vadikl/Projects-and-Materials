{
 "cells": [
  {
   "cell_type": "markdown",
   "metadata": {},
   "source": [
    "Для управления логикой программы нужен еще один тип переменной - bool. Переменная типа bool имеет всего два значения - True и False."
   ]
  },
  {
   "cell_type": "markdown",
   "metadata": {},
   "source": [
    "В простейшем виде условная инструкция в Питоне имеет следующий синтаксис:\n",
    "\n",
    "if Условие:\n",
    "   \n",
    "    Блок инструкций 1\n",
    "\n",
    "else:\n",
    "   \n",
    "    Блок инструкций 2"
   ]
  },
  {
   "cell_type": "markdown",
   "metadata": {},
   "source": [
    "#### Пример \n",
    "Если число делится на 7, напечатать это число и строку \"YES\", в противном случае - \"NO\""
   ]
  },
  {
   "cell_type": "code",
   "execution_count": 134,
   "metadata": {},
   "outputs": [
    {
     "name": "stdout",
     "output_type": "stream",
     "text": [
      "Input a number: 7\n",
      "Yes\n"
     ]
    }
   ],
   "source": [
    "num = int(input('Input a number: '))\n",
    "if num % 7 == 0:\n",
    "    print(\"Yes\")\n",
    "else:\n",
    "    print('No')"
   ]
  },
  {
   "cell_type": "markdown",
   "metadata": {},
   "source": [
    "#### Если в каждом блоке всего по одной инструкции, можно использовать сокращенный синтаксис:\n",
    "\n",
    "Инструкция 1 if Условие else Инструкция 2"
   ]
  },
  {
   "cell_type": "markdown",
   "metadata": {},
   "source": [
    "#### Пример \n",
    "Написать, что число четное или нечетное"
   ]
  },
  {
   "cell_type": "code",
   "execution_count": 142,
   "metadata": {},
   "outputs": [
    {
     "name": "stdout",
     "output_type": "stream",
     "text": [
      "Input a number: 4\n",
      "4 is even\n"
     ]
    }
   ],
   "source": [
    "num = int(input('Input a number: '))\n",
    "print(str(num) + ' is' + ' even' if num % 2 == 0 else 'odd' )"
   ]
  },
  {
   "cell_type": "markdown",
   "metadata": {},
   "source": [
    "#### Условные конструкции могут быть вложенными. \n",
    "\n",
    "if Условие1:\n",
    "    \n",
    "    if Условие2:\n",
    "    \n",
    "        Блок инструкций 1\n",
    "        \n",
    "        ...\n",
    "        \n",
    "    else:\n",
    "    \n",
    "        Блок инструкций 2\n",
    "        \n",
    "else:\n",
    "   \n",
    "    Блок инструкций 3"
   ]
  },
  {
   "cell_type": "markdown",
   "metadata": {},
   "source": [
    "#### Пример\n",
    "Определить, в какой четверти находится точка, по ее координатам *(x, y)*"
   ]
  },
  {
   "cell_type": "code",
   "execution_count": 143,
   "metadata": {},
   "outputs": [
    {
     "name": "stdout",
     "output_type": "stream",
     "text": [
      "Input x coordinate: 5\n",
      "Input y coordinate: 3\n",
      "First quarter\n"
     ]
    }
   ],
   "source": [
    "x = int(input('Input x coordinate: '))\n",
    "y = int(input('Input y coordinate: '))\n",
    "if x > 0:\n",
    "    if y > 0:\n",
    "        print('First quarter')\n",
    "    else:\n",
    "        print('Forth quarter')\n",
    "else:\n",
    "    if y > 0:\n",
    "        print('Second quarter')\n",
    "    else:\n",
    "        print('Third quarter')"
   ]
  },
  {
   "cell_type": "markdown",
   "metadata": {},
   "source": [
    "***Не стоит злоупотреблять вложенностью,большая вложенность видет к плохой \n",
    "читаемости кода,называемой \"cпагетти код\"***"
   ]
  },
  {
   "cell_type": "markdown",
   "metadata": {},
   "source": [
    "#### Блок *if-elif-else* (каскадная конструкция)\n",
    "if Условие 1:\n",
    "   \n",
    "    Блок инструкций 1\n",
    "\n",
    "elif Условие 2:\n",
    "\n",
    "    Блок инструкций 2\n",
    "    \n",
    "...\n",
    "\n",
    "elif Условие n:\n",
    "\n",
    "    Блок инструкций n\n",
    "    \n",
    "else:\n",
    "   \n",
    "    Блок инструкций n+1"
   ]
  },
  {
   "cell_type": "code",
   "execution_count": 147,
   "metadata": {},
   "outputs": [
    {
     "name": "stdout",
     "output_type": "stream",
     "text": [
      "Input x coordinate: 3\n",
      "Input y coordinate: 4\n",
      "First quarter\n"
     ]
    }
   ],
   "source": [
    "x = int(input('Input x coordinate: '))\n",
    "y = int(input('Input y coordinate: '))\n",
    "if x > 0 and y > 0:\n",
    "    print('First quarter')\n",
    "elif x > 0 and y < 0:\n",
    "    print('Forth quarter')\n",
    "elif y > 0:\n",
    "    print('Second quarter')\n",
    "else:\n",
    "    print('Third quarter')"
   ]
  },
  {
   "cell_type": "markdown",
   "metadata": {},
   "source": [
    "Требуется определить, является ли данный год високосным\n",
    "<br/>\n",
    "(Напомним, что год является високосным, если его номер кратен 4, но не кратен 100, а также если он кратен 400.)\n",
    "\n",
    "Входные данные:\n",
    "<br/>\n",
    "Вводится единственное число - номер года (целое, положительное, не превышает 30000).\n",
    "\n",
    "Выходные данные:\n",
    "<br/>\n",
    "Требуется вывести слово YES, если год является високосным и NO - в противном случае."
   ]
  },
  {
   "cell_type": "markdown",
   "metadata": {},
   "source": [
    "***Решение***"
   ]
  },
  {
   "cell_type": "code",
   "execution_count": 60,
   "metadata": {},
   "outputs": [
    {
     "name": "stdout",
     "output_type": "stream",
     "text": [
      "Input a year: 3000000\n",
      "This year exceeds the rules, type another!\n",
      "Input a year once again: 2131231231\n",
      "This year exceeds the rules, type another!\n",
      "Input a year once again: 423423423423432423\n",
      "This year exceeds the rules, type another!\n",
      "Input a year once again: 1996\n",
      "YES\n"
     ]
    }
   ],
   "source": [
    "year = int(input('Input a year: '))\n",
    "if year >= 30000:\n",
    "    while year >= 30000:\n",
    "        print('This year exceeds the rules, type another!')\n",
    "        year = int(input('Input a year once again: '))\n",
    "if (year % 4 == 0 and year % 100 !=0) or (year % 400 == 0):\n",
    "    print('YES')\n",
    "else:\n",
    "    print('No')"
   ]
  },
  {
   "cell_type": "markdown",
   "metadata": {},
   "source": [
    "## 5. Циклы"
   ]
  },
  {
   "cell_type": "markdown",
   "metadata": {},
   "source": [
    "Что такое цикл while?\n",
    "===\n",
    "Цикл while проверяет начальные условия. Если условие выполняется, цикл начинает работать. Каждый раз когда проходит одна итерация, условие проверяется снова. До тех пор, пока условие выполняется, цикл продолжает работать. Как только условие перестает выполняться, цикл заканчивает свою работу."
   ]
  },
  {
   "cell_type": "markdown",
   "metadata": {},
   "source": [
    "- Каждый цикл должен иметь начальное условие которое выполнятеся\n",
    "- Ключевое слово `while` включает в себя проверяемое условие\n",
    "- Код внутри цикла выполняется до тех пор, пока верно начальное условие\n",
    "- Как только что-то меняется и начальное условие не выполняется, цикл перестает выполняться\n",
    "- По окончании цикла выполняется код, написанный далее"
   ]
  },
  {
   "cell_type": "markdown",
   "metadata": {},
   "source": [
    "Пример"
   ]
  },
  {
   "cell_type": "markdown",
   "metadata": {},
   "source": [
    "User играет в телефон заряда которого хватает на 10ч"
   ]
  },
  {
   "cell_type": "code",
   "execution_count": 78,
   "metadata": {},
   "outputs": [
    {
     "name": "stdout",
     "output_type": "stream",
     "text": [
      "You are playing but battery is 100%\n",
      "You are playing but battery is 90%\n",
      "You are playing but battery is 80%\n",
      "You are playing but battery is 70%\n",
      "You are playing but battery is 60%\n",
      "You are playing but battery is 50%\n",
      "You are playing but battery is 40%\n",
      "You are playing but battery is 30%\n",
      "You are playing but battery is 20%\n",
      "You are playing but battery is 10%\n",
      "Yor phone is uncharged,plese charge!\n"
     ]
    }
   ],
   "source": [
    "# Заряд смартфона\n",
    "power = 100\n",
    "\n",
    "# Играем пока не сядет батарейка\n",
    "while power > 0:\n",
    "    print(f'You are playing but battery is {power}' + '%')\n",
    "    power -= 10\n",
    "else:\n",
    "    print('Yor phone is uncharged,plese charge!')"
   ]
  },
  {
   "cell_type": "markdown",
   "metadata": {},
   "source": [
    "Большинство программ работают до тех пор, пока вы не завершите работу, введя quit, exit ...etc. Рассмотрим пример организации цикла для подобного рода поведения:"
   ]
  },
  {
   "cell_type": "code",
   "execution_count": 1,
   "metadata": {},
   "outputs": [
    {
     "name": "stdout",
     "output_type": "stream",
     "text": [
      "Please,write a name to add or input exit:vlad\n",
      "Please,write a name to add or input exit:max\n",
      "Please,write a name to add or input exit:exit\n",
      "['vlad', 'max']\n"
     ]
    }
   ],
   "source": [
    "names = []\n",
    "\n",
    "new_name = ''\n",
    "while new_name != 'exit':\n",
    "    new_name = input('Please,write a name to add or input exit:')\n",
    "    names.append(new_name)\n",
    "del names[-1]\n",
    "print(names)"
   ]
  },
  {
   "cell_type": "markdown",
   "metadata": {},
   "source": [
    "Использование цикла while для создания меню\n",
    "Поробуем создать меню для поиска информации в универе"
   ]
  },
  {
   "cell_type": "code",
   "execution_count": 2,
   "metadata": {},
   "outputs": [
    {
     "name": "stdout",
     "output_type": "stream",
     "text": [
      "\n",
      "Weclome to the Iniversity!\n",
      "\n",
      "Here what you can find \n",
      "-Dekanat \n",
      "-Library \n",
      "-GYM \n",
      "-Canteen \n",
      "*Exit\n",
      "exit\n",
      "\n",
      "Thanks for visiting! \n",
      "See you next time and Have a good day\n"
     ]
    }
   ],
   "source": [
    "def dekanat():\n",
    "    print('\\nDekanat is on the second floor')\n",
    "    \n",
    "def library():\n",
    "    print('\\nLibarary is on the forth floor')\n",
    "\n",
    "def gym():\n",
    "    print('\\nGym is in the main building,not here!')\n",
    "    \n",
    "def canteen():\n",
    "    print('\\nCanteen is on the first floor,turn to the right =)))')\n",
    "    \n",
    "print('\\nWeclome to the Iniversity!')\n",
    "choice = ''\n",
    "while choice.lower() != 'exit':\n",
    "    \n",
    "    print('\\nHere what you can find \\n-Dekanat \\n-Library \\n-GYM \\n-Canteen \\n*Exit')\n",
    "    choice = input('')\n",
    "    \n",
    "    if choice.lower() == 'dekanat':\n",
    "        dekanat()\n",
    "    elif choice.lower() == 'library':\n",
    "        library()\n",
    "    elif choice.lower() == 'gym':\n",
    "        gym()\n",
    "    elif choice.lower() == 'canteen':\n",
    "        canteen()\n",
    "    elif choice.lower() == 'exit':\n",
    "        print('\\nThanks for visiting! \\nSee you next time and Have a good day')\n",
    "    else:\n",
    "        print(\"\\nI can't understand, please write one more time\")"
   ]
  },
  {
   "cell_type": "markdown",
   "metadata": {},
   "source": [
    "***Использование while для обработки элементов списка***"
   ]
  },
  {
   "cell_type": "code",
   "execution_count": 8,
   "metadata": {},
   "outputs": [
    {
     "name": "stdout",
     "output_type": "stream",
     "text": [
      "Confirming user Max...\n",
      "Confirming user Vlad...\n",
      "Confirming user Akex...\n",
      "Confirming user Dasha...\n",
      "\n",
      "Confirmed Users:\n",
      "--Max\n",
      "--Vlad\n",
      "--Akex\n",
      "--Dasha\n",
      "\n",
      "Unconfirmed Users:\n"
     ]
    }
   ],
   "source": [
    "# Cоздадим 2 списка:\n",
    "unconfirmed_users = ['Max','Vlad','Akex','Dasha']\n",
    "confirmed_users = []\n",
    "\n",
    "# Пройдем по списку и проверим каждого бользователя:\n",
    "while len(unconfirmed_users) > 0:\n",
    "    \n",
    "    # Доставем неподтвержденных пользователей:\n",
    "    current_user = unconfirmed_users.pop(0)\n",
    "    print('Confirming user %s...' %current_user)\n",
    "    \n",
    "    #Добавляем подтвержденных польхователей:\n",
    "    confirmed_users.append(current_user) \n",
    "    \n",
    "# Печатаем подтвержденных пользователей:\n",
    "print('\\nConfirmed Users:')\n",
    "for users in confirmed_users:\n",
    "    print('--'+users)\n",
    "\n",
    "# Печатаем неподтвержденных пользователей:\n",
    "print('\\nUnconfirmed Users:')\n",
    "for users in unconfirmed_users:\n",
    "    print('--'+users)\n"
   ]
  },
  {
   "cell_type": "markdown",
   "metadata": {},
   "source": [
    "***Инструкции для работы с циклами***\n",
    "- **break** - Производит переход за пределы цикла\n",
    "\n",
    "- **continue** - Производит переход в начало цикла\n",
    "\n",
    "- **pass** - Ничего не делает, используется как заполнитель\n",
    "\n",
    "Блок **else** - выполняется, если цикл завершился необычным образом (break не в счет)\n",
    "\n",
    "Как это выглядит:"
   ]
  },
  {
   "cell_type": "markdown",
   "metadata": {},
   "source": [
    "while <test1>:\n",
    "\n",
    "    <statements1>\n",
    "    \n",
    "    if <test2>: break # Выйти из цикла, пропустив часть else\n",
    "    \n",
    "    if <test3>: continue # Перейти в начало цикла, к выражению test1\n",
    "    \n",
    "else:\n",
    "\n",
    "    <statements2> # Выполняется, если не была использована инструкция ‘break’"
   ]
  },
  {
   "cell_type": "markdown",
   "metadata": {},
   "source": [
    "Инструкции **break** и **continue** могут появляться в любом месте внутри тела цикла **while** (или *for*), но, как правило, они используются в условных инструкциях **if**, чтобы выполнить необходимое действие в ответ на некоторое условие."
   ]
  },
  {
   "cell_type": "markdown",
   "metadata": {},
   "source": [
    "***Использование Continue***"
   ]
  },
  {
   "cell_type": "code",
   "execution_count": 11,
   "metadata": {},
   "outputs": [
    {
     "name": "stdout",
     "output_type": "stream",
     "text": [
      "8\n",
      "6\n",
      "4\n",
      "2\n",
      "0\n"
     ]
    }
   ],
   "source": [
    "x = 10\n",
    "while x:\n",
    "    x-=1\n",
    "    if x % 2 != 0:continue # нечетное? - пропускаем\n",
    "    print(x)"
   ]
  },
  {
   "cell_type": "markdown",
   "metadata": {},
   "source": [
    "***Использование Break***"
   ]
  },
  {
   "cell_type": "code",
   "execution_count": 4,
   "metadata": {},
   "outputs": [
    {
     "name": "stdout",
     "output_type": "stream",
     "text": [
      "Enter Name: Max\n",
      "Enter age: 24\n",
      "Hello Max your age is 24\n",
      "Enter Name: STOP\n"
     ]
    }
   ],
   "source": [
    "while True:\n",
    "    name = input('Enter Name: ')\n",
    "    if name.lower() == 'stop':break\n",
    "    age = int(input('Enter age: '))\n",
    "    print(f'Hello {name} your age is {age}')"
   ]
  },
  {
   "cell_type": "markdown",
   "metadata": {},
   "source": [
    "***Использование Else***  \n",
    "Проверим простое ли число "
   ]
  },
  {
   "cell_type": "code",
   "execution_count": 8,
   "metadata": {},
   "outputs": [
    {
     "name": "stdout",
     "output_type": "stream",
     "text": [
      "20 has factor 10\n"
     ]
    }
   ],
   "source": [
    "x,y = 4,2\n",
    "x = y//2\n",
    "while x>1:\n",
    "    if y % x == 0:\n",
    "        print(y, 'has factor', x)\n",
    "        break\n",
    "    else:\n",
    "        x -= 1\n",
    "else: # Нормальное завершение цикла \n",
    "    print(y,'is prime')"
   ]
  },
  {
   "cell_type": "markdown",
   "metadata": {},
   "source": [
    "***Цикл For***  \n",
    "\n",
    "Цикл for в языке Python начинается со строки заголовка, где указывается переменная для присваивания (цель), а также объект, обход которого будет выполнен. Вслед за заголовком следует блок инструкций, которые требуется выполнить.  \n",
    "\n",
    "Когда интерпретатор выполняет цикл for, он поочередно, один за другим, присваивает элементы объекта\n",
    "последовательности переменной цикла и выполняет тело цикла для каждого из них\n"
   ]
  },
  {
   "cell_type": "code",
   "execution_count": 9,
   "metadata": {},
   "outputs": [
    {
     "name": "stdout",
     "output_type": "stream",
     "text": [
      "spam\n",
      "eggs\n",
      "ham\n"
     ]
    }
   ],
   "source": [
    "for x in ['spam','eggs','ham']:\n",
    "    print(x)"
   ]
  },
  {
   "cell_type": "markdown",
   "metadata": {},
   "source": [
    "### Задания"
   ]
  },
  {
   "cell_type": "code",
   "execution_count": 6,
   "metadata": {},
   "outputs": [
    {
     "name": "stdout",
     "output_type": "stream",
     "text": [
      "Input a number: 3\n",
      "Factorial is 6\n"
     ]
    }
   ],
   "source": [
    "# Just to find factorial\n",
    "number = int(input('Input a number: '))\n",
    "factorial = 1\n",
    "for i in range(n):\n",
    "    factorial *= i+1\n",
    "print('Factorial is %d' %(factorial))"
   ]
  },
  {
   "cell_type": "code",
   "execution_count": 8,
   "metadata": {},
   "outputs": [
    {
     "data": {
      "text/plain": [
       "6"
      ]
     },
     "execution_count": 8,
     "metadata": {},
     "output_type": "execute_result"
    }
   ],
   "source": [
    "# Factorial with recursion\n",
    "def factorial(n):\n",
    "    if n == 0:\n",
    "        return 1\n",
    "    else:\n",
    "        return n*factorial(n-1)\n",
    "factorial(3)"
   ]
  },
  {
   "cell_type": "code",
   "execution_count": 1,
   "metadata": {},
   "outputs": [
    {
     "name": "stdout",
     "output_type": "stream",
     "text": [
      "Input a number: 3\n",
      "Factorial is 6\n",
      "Sum of factorials is 9\n"
     ]
    }
   ],
   "source": [
    "# Find 1! + 2! + 3! + ... + n!\n",
    "\n",
    "def factorial_sum(n):\n",
    "    current_factorial, sum = 1,0\n",
    "    for i in range(n):\n",
    "        current_factorial *= (i+1)\n",
    "        sum += current_factorial\n",
    "    print('Factorial is %d'%(current_factorial) +'\\n'+'Sum of factorials is %d' %(sum))\n",
    "\n",
    "n = int(input('Input a number: '))\n",
    "factorial_sum(n)"
   ]
  },
  {
   "cell_type": "code",
   "execution_count": 2,
   "metadata": {},
   "outputs": [
    {
     "name": "stdout",
     "output_type": "stream",
     "text": [
      "Input numbers: 6,12\n",
      "-2.0\n"
     ]
    }
   ],
   "source": [
    "# linear equation ax + b = 0\n",
    "a,b = [int(i) for i in input('Input numbers: ').split(',')]\n",
    "if a == 0 and b == 0:\n",
    "    print('INF')\n",
    "elif a!=0 and (b%a == 0):\n",
    "    print(-b/a)\n",
    "else:\n",
    "    print('No')"
   ]
  },
  {
   "cell_type": "code",
   "execution_count": 5,
   "metadata": {},
   "outputs": [
    {
     "name": "stdout",
     "output_type": "stream",
     "text": [
      "Input numbers: 4,3,12\n",
      "Yes\n"
     ]
    }
   ],
   "source": [
    "# Chocolate task\n",
    "def chocolate():\n",
    "    \"\"\"\n",
    "    The size of chocolate m*n and we need to determine whether it is possible to devide \n",
    "    a cholote with the size m*n into k parts\n",
    "    \"\"\"\n",
    "    m,n,k =  [int(i) for i in input('Input numbers: ').split(',')]\n",
    "    print('Yes' if (k<=n*m) and ((k % m == 0) or (k % n  == 0)) else 'No')\n",
    "    \n",
    "chocolate()"
   ]
  }
 ],
 "metadata": {
  "kernelspec": {
   "display_name": "Python 3",
   "language": "python",
   "name": "python3"
  },
  "language_info": {
   "codemirror_mode": {
    "name": "ipython",
    "version": 3
   },
   "file_extension": ".py",
   "mimetype": "text/x-python",
   "name": "python",
   "nbconvert_exporter": "python",
   "pygments_lexer": "ipython3",
   "version": "3.6.1"
  }
 },
 "nbformat": 4,
 "nbformat_minor": 2
}
