{
 "cells": [
  {
   "cell_type": "markdown",
   "metadata": {},
   "source": [
    "###  Lambda Function \n",
    "lambda functions come from lambda - calculus invented by Alonzo Church.<br>\n",
    "lambda functions are small anonymous functions that have more flexible syntaxis than ordinary functions\n",
    "\n",
    "- **Arguments of this function don't have round brackets**\n",
    "- **( lambda x, y: x + y )( 2, 10 )** - Immediately Invoked Function Expression\n",
    "- **Lambda function can be a function of higher order and can take other lambda functions** \n",
    "- Expressions such as **return**, **pass**, **assert**, **raise** in lambda function  lead to invalid syntax"
   ]
  },
  {
   "cell_type": "code",
   "execution_count": 32,
   "metadata": {},
   "outputs": [
    {
     "name": "stdout",
     "output_type": "stream",
     "text": [
      "110\n",
      "\n",
      "First Name: Vladislav\n",
      "Last Name: Raskoshinskii\n",
      "\n",
      "20\n"
     ]
    },
    {
     "data": {
      "text/plain": [
       "8"
      ]
     },
     "execution_count": 32,
     "metadata": {},
     "output_type": "execute_result"
    }
   ],
   "source": [
    "# IIFE example\n",
    "print((lambda x,y: x+y)(10,100))\n",
    "\n",
    "# Several arguments\n",
    "lambda_func = lambda first, last: print('\\n' + f'First Name: {first.title()}' + '\\n' + f'Last Name: {last.title()}')\n",
    "lambda_func('vladislav','raskoshinskii')\n",
    "\n",
    "# Several Lambda Functions\n",
    "\n",
    "# 1st Option\n",
    "high_order_lambda = lambda x, func: x*func\n",
    "simple_lambda = lambda x: x+2\n",
    "print('\\n'+str(high_order_lambda(10,simple_lambda(0))))\n",
    "\n",
    "# 2d option\n",
    "high_lambda = lambda x, func: x*func(x)\n",
    "low_lambda = lambda x: x+2\n",
    "high_lambda(2,low_lambda)"
   ]
  }
 ],
 "metadata": {
  "kernelspec": {
   "display_name": "Python 3",
   "language": "python",
   "name": "python3"
  },
  "language_info": {
   "codemirror_mode": {
    "name": "ipython",
    "version": 3
   },
   "file_extension": ".py",
   "mimetype": "text/x-python",
   "name": "python",
   "nbconvert_exporter": "python",
   "pygments_lexer": "ipython3",
   "version": "3.6.1"
  }
 },
 "nbformat": 4,
 "nbformat_minor": 2
}
