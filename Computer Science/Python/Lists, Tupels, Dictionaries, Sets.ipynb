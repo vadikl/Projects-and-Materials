{
 "cells": [
  {
   "cell_type": "markdown",
   "metadata": {},
   "source": [
    "# Структуры данных"
   ]
  },
  {
   "cell_type": "markdown",
   "metadata": {},
   "source": [
    "***Списки***  \n",
    "\n",
    "Список - это коллекция объектов, хранящаяся в одной переменной. Между этими объетами есть какая-то смысловая связь, но формально нет никаких ограничений на типы объектов, которые могут храниться в одном списке."
   ]
  },
  {
   "cell_type": "markdown",
   "metadata": {},
   "source": [
    "#### Методы для работы со списками\n",
    "\n",
    "- **len(list)** - возвращает длину списка  \n",
    "<br>\n",
    "- **list.append()**  - добавление элемента в список \n",
    "- **list.insert()** - добавление элемента в список  \n",
    "- **list.extend()** - расширение списка  \n",
    "<br>\n",
    "- **list.remove()** - удаление элемента из списка\n",
    "- **del list[]** - удаление элемента из списка\n",
    "- **list.pop()** - извлечение элемента из списка  \n",
    "<br>\n",
    "- **enumerate(list)** - перечесление элементов вместе с индексами\n",
    "- **list.index()** - индекса элемента списка  \n",
    "<br>\n",
    "- **list[n]** - обращение к элементу списка\n",
    "- **list[::-1]** - срез списка (a:b:c); a - начало среза, b - конец среза, с - шаг среза\n",
    "- **list[:n]** - от перого элемента до n\n",
    "- **list[-1]** - последний элемент списка\n",
    "<br>\n",
    "- **list.sort()** - сортировка списка\n",
    "- **sorted(list)** - возвращает отсортированный список,не изменяя первый\n",
    "- **list.reverse()** - перевернуть список  \n",
    "<br>\n",
    "- **min(list)** - минимальный элемент списка\n",
    "- **max(list)** - максимальный элемент списка\n",
    "- **sum(list)** - сумма списка  \n",
    "- **list.count()** - считаем что-то в списке\n",
    "\n",
    "- **list.copy()** - копирует список ( изменения в копии затрагивают только копию)\n",
    "- **list.clear()** - очищает список\n",
    "\n",
    "\n",
    "- **[ any action with x for x in range(1,11) condition ]** - list comprehansion "
   ]
  },
  {
   "cell_type": "markdown",
   "metadata": {},
   "source": [
    "***Длина списка***"
   ]
  },
  {
   "cell_type": "code",
   "execution_count": 3,
   "metadata": {},
   "outputs": [
    {
     "data": {
      "text/plain": [
       "3"
      ]
     },
     "execution_count": 3,
     "metadata": {},
     "output_type": "execute_result"
    }
   ],
   "source": [
    "names = ['alex','max','david']\n",
    "len(names)"
   ]
  },
  {
   "cell_type": "markdown",
   "metadata": {},
   "source": [
    "***Добавление элемента в список .append() .insert()***"
   ]
  },
  {
   "cell_type": "code",
   "execution_count": 2,
   "metadata": {},
   "outputs": [
    {
     "name": "stdout",
     "output_type": "stream",
     "text": [
      "['alex', 'max', 'david', 'arnold']\n"
     ]
    }
   ],
   "source": [
    "names.append('arnold')\n",
    "print(names)"
   ]
  },
  {
   "cell_type": "code",
   "execution_count": 9,
   "metadata": {},
   "outputs": [
    {
     "name": "stdout",
     "output_type": "stream",
     "text": [
      "['alex', 'jeremy', 'max', 'david', 'arnold']\n"
     ]
    }
   ],
   "source": [
    "names.insert(1,'jeremy')\n",
    "print(names)"
   ]
  },
  {
   "cell_type": "markdown",
   "metadata": {},
   "source": [
    "***Удаление элемента из списка .remove() .del()***"
   ]
  },
  {
   "cell_type": "code",
   "execution_count": 10,
   "metadata": {},
   "outputs": [
    {
     "name": "stdout",
     "output_type": "stream",
     "text": [
      "['alex', 'max', 'david', 'arnold']\n"
     ]
    }
   ],
   "source": [
    "del names[1]\n",
    "print(names)"
   ]
  },
  {
   "cell_type": "code",
   "execution_count": 13,
   "metadata": {},
   "outputs": [
    {
     "name": "stdout",
     "output_type": "stream",
     "text": [
      "['alex', 'max', 'arnold']\n"
     ]
    }
   ],
   "source": [
    "names.remove('david')\n",
    "print(names)"
   ]
  },
  {
   "cell_type": "markdown",
   "metadata": {},
   "source": [
    "***Извлечение элемента из списка .pop()***"
   ]
  },
  {
   "cell_type": "code",
   "execution_count": 27,
   "metadata": {},
   "outputs": [
    {
     "name": "stdout",
     "output_type": "stream",
     "text": [
      "['max', 'arnold']\n",
      "alex\n"
     ]
    }
   ],
   "source": [
    "selected_name = names.pop(0)\n",
    "print(names)\n",
    "print(selected_name)"
   ]
  },
  {
   "cell_type": "markdown",
   "metadata": {},
   "source": [
    "***Перечисление элементов с индексами .enumerate()***"
   ]
  },
  {
   "cell_type": "code",
   "execution_count": 33,
   "metadata": {},
   "outputs": [
    {
     "name": "stdout",
     "output_type": "stream",
     "text": [
      "Place: 0 Name: Max\n",
      "Place: 1 Name: Arnold\n"
     ]
    }
   ],
   "source": [
    "for idx, name in enumerate(names):\n",
    "    place = str(idx)\n",
    "    print(\"Place: \" + place + \" Name: \" + name.title() )"
   ]
  },
  {
   "cell_type": "markdown",
   "metadata": {},
   "source": [
    "***Индекс элемента в списке .index()***"
   ]
  },
  {
   "cell_type": "code",
   "execution_count": 35,
   "metadata": {},
   "outputs": [
    {
     "data": {
      "text/plain": [
       "1"
      ]
     },
     "execution_count": 35,
     "metadata": {},
     "output_type": "execute_result"
    }
   ],
   "source": [
    "names.index('arnold')"
   ]
  },
  {
   "cell_type": "markdown",
   "metadata": {},
   "source": [
    "***Расширяем список .extend()***"
   ]
  },
  {
   "cell_type": "code",
   "execution_count": null,
   "metadata": {},
   "outputs": [],
   "source": [
    "names.extend(['vlad','sadik','dexter','mary'])"
   ]
  },
  {
   "cell_type": "markdown",
   "metadata": {},
   "source": [
    "***Обращение к элементам списка***"
   ]
  },
  {
   "cell_type": "code",
   "execution_count": 50,
   "metadata": {},
   "outputs": [
    {
     "name": "stdout",
     "output_type": "stream",
     "text": [
      "max\n",
      "['max', 'arnold', 'vlad', 'sadik', 'dexter', 'mary']\n",
      "['max', 'arnold', 'vlad', 'sadik', 'dexter']\n",
      "mary\n",
      "['vlad', 'sadik', 'dexter', 'mary']\n"
     ]
    }
   ],
   "source": [
    "print(names[0])\n",
    "print(names[:])\n",
    "print(names[:-1])\n",
    "print(names[-1])\n",
    "print(names[2:])"
   ]
  },
  {
   "cell_type": "markdown",
   "metadata": {},
   "source": [
    "***Сортировка списка .sort() .sorted()***  \n",
    "\n",
    ".sort() сортирует изначальный список, а .sorted() позволяет отсортиовать список, не изменяя изначальный"
   ]
  },
  {
   "cell_type": "code",
   "execution_count": 91,
   "metadata": {},
   "outputs": [
    {
     "name": "stdout",
     "output_type": "stream",
     "text": [
      "['arnold', 'dexter', 'mary', 'mary', 'max', 'new vlad', 'sadik']\n",
      "['new vlad', 'sadik', 'max', 'mary', 'dexter', 'arnold', 'mary']\n"
     ]
    }
   ],
   "source": [
    "print(sorted(names))\n",
    "print(names)"
   ]
  },
  {
   "cell_type": "code",
   "execution_count": 96,
   "metadata": {},
   "outputs": [
    {
     "name": "stdout",
     "output_type": "stream",
     "text": [
      "['arnold', 'dexter', 'mary', 'mary', 'max', 'new vlad', 'sadik']\n"
     ]
    }
   ],
   "source": [
    "names.sort()\n",
    "print(names)"
   ]
  },
  {
   "cell_type": "code",
   "execution_count": 63,
   "metadata": {},
   "outputs": [
    {
     "data": {
      "text/plain": [
       "['vlad', 'sadik', 'max', 'mary', 'dexter', 'arnold']"
      ]
     },
     "execution_count": 63,
     "metadata": {},
     "output_type": "execute_result"
    }
   ],
   "source": [
    "names.reverse()\n",
    "names"
   ]
  },
  {
   "cell_type": "markdown",
   "metadata": {},
   "source": [
    "***Считаем что-нибудь в списке .count()***"
   ]
  },
  {
   "cell_type": "code",
   "execution_count": 74,
   "metadata": {},
   "outputs": [
    {
     "data": {
      "text/plain": [
       "2"
      ]
     },
     "execution_count": 74,
     "metadata": {},
     "output_type": "execute_result"
    }
   ],
   "source": [
    "names.count('mary')"
   ]
  },
  {
   "cell_type": "markdown",
   "metadata": {},
   "source": [
    "***List Comprehansion***\n",
    "\n",
    "Continuing the SQL analogy, you could think of these three lines as SELECT, FROM, and WHERE"
   ]
  },
  {
   "cell_type": "code",
   "execution_count": 5,
   "metadata": {},
   "outputs": [
    {
     "name": "stdout",
     "output_type": "stream",
     "text": [
      "['FERRARI!', 'ASTON MARTIN!', 'DODGE!']\n"
     ]
    }
   ],
   "source": [
    "new_names = [name+\"1\" for name in names]\n",
    "new_names\n",
    "# or\n",
    "cars = ['bmw','ferrari','aston martin','dodge']\n",
    "upper_cars = [car.upper() + '!' for car in cars if len(car)>3]\n",
    "print(upper_cars)"
   ]
  },
  {
   "cell_type": "markdown",
   "metadata": {},
   "source": [
    "***Операции min() max() sum()***"
   ]
  },
  {
   "cell_type": "code",
   "execution_count": 85,
   "metadata": {},
   "outputs": [
    {
     "name": "stdout",
     "output_type": "stream",
     "text": [
      "20\n",
      "1\n",
      "210\n"
     ]
    }
   ],
   "source": [
    "numbers = [num for num in range(1,21)]\n",
    "print(max(numbers))\n",
    "print(min(numbers))\n",
    "print(sum(numbers))"
   ]
  },
  {
   "cell_type": "markdown",
   "metadata": {},
   "source": [
    "***Обращение ко всем элементам списка***"
   ]
  },
  {
   "cell_type": "code",
   "execution_count": 86,
   "metadata": {},
   "outputs": [
    {
     "name": "stdout",
     "output_type": "stream",
     "text": [
      "vlad\n",
      "sadik\n",
      "max\n",
      "mary\n",
      "dexter\n",
      "arnold\n",
      "mary\n"
     ]
    }
   ],
   "source": [
    "for name in names:\n",
    "    print(name)"
   ]
  },
  {
   "cell_type": "markdown",
   "metadata": {},
   "source": [
    "Рассмотрим эту конструкцию:\n",
    "\n",
    "    for name in names:\n",
    "\n",
    "- Ключевое слово \"for\" говорит Python, что это цикл.\n",
    "- Переменная \"name\" (без \"s\" на конце) - временная, в ней хранятся элементы списка, один за одним.\n",
    "\n",
    "Сайт <a href=\"http://pythontutor.com/visualize.html#code=cars+%3D+%5B'aston+martin',+'porsche+cayenne',+'ferrari+california'%5D%0A%0Afor+car+in+cars%3A%0A++++print(car%29&mode=display&origin=opt-frontend.js&cumulative=false&heapPrimitives=false&textReferences=false&py=3&rawInputLstJSON=%5B%5D&curInstr=0\">pythontutor.com</a> позволяет запускать код по одной строке и отображает, что происходит с объектами Python. \n",
    "\n",
    "С элементами списка в цикле можно делать много всего, не только печатать."
   ]
  },
  {
   "cell_type": "markdown",
   "metadata": {},
   "source": [
    "***Изменение элемента списка***"
   ]
  },
  {
   "cell_type": "code",
   "execution_count": 87,
   "metadata": {},
   "outputs": [
    {
     "data": {
      "text/plain": [
       "['new vlad', 'sadik', 'max', 'mary', 'dexter', 'arnold', 'mary']"
      ]
     },
     "execution_count": 87,
     "metadata": {},
     "output_type": "execute_result"
    }
   ],
   "source": [
    "names[0] = 'new vlad'\n",
    "names"
   ]
  },
  {
   "cell_type": "markdown",
   "metadata": {},
   "source": [
    "***Копирование списка***"
   ]
  },
  {
   "cell_type": "code",
   "execution_count": 104,
   "metadata": {},
   "outputs": [
    {
     "name": "stdout",
     "output_type": "stream",
     "text": [
      "Original list:\n",
      "['arnold', 'dexter', 'mary', 'mary', 'max', 'new vlad', 'sadik']\n",
      "\n",
      "Copy of the list:\n",
      "['arnold', 'dexter', 'mary', 'mary', 'max', 'new vlad', 'sadik']\n"
     ]
    }
   ],
   "source": [
    "copied_names = names[:]\n",
    "print(\"Original list:\\n\" + str(names))\n",
    "print(\"\\nCopy of the list:\\n\"+ str(copied_names))"
   ]
  },
  {
   "cell_type": "markdown",
   "metadata": {},
   "source": [
    "## Кортежи\n",
    "Кортеж - это неизменяемый список. Определяется круглыми скобками.\n",
    "Нужен для того, чтобы обезопасить наши данные,например,работа с базами данных. Мы возвращаем результат запроса в виде кортежа,чтобы ценная информация не была изменена или удалена на программном уровне."
   ]
  },
  {
   "cell_type": "code",
   "execution_count": 105,
   "metadata": {},
   "outputs": [],
   "source": [
    "jobs = ('teacher','doctor','programmer')"
   ]
  },
  {
   "cell_type": "markdown",
   "metadata": {},
   "source": [
    "Добавлять или удалять,изменять информацию внутри кортежа нельзя"
   ]
  },
  {
   "cell_type": "markdown",
   "metadata": {},
   "source": [
    "***Основные методы***:  \n",
    "\n",
    "- **tuple.index()** - получение индекса элемента  \n",
    "- **tuple.count()** - считаем что-то в кортеже"
   ]
  },
  {
   "cell_type": "code",
   "execution_count": 108,
   "metadata": {},
   "outputs": [
    {
     "data": {
      "text/plain": [
       "1"
      ]
     },
     "execution_count": 108,
     "metadata": {},
     "output_type": "execute_result"
    }
   ],
   "source": [
    "# Count()\n",
    "jobs.count('teacher')"
   ]
  },
  {
   "cell_type": "code",
   "execution_count": 110,
   "metadata": {},
   "outputs": [
    {
     "data": {
      "text/plain": [
       "2"
      ]
     },
     "execution_count": 110,
     "metadata": {},
     "output_type": "execute_result"
    }
   ],
   "source": [
    "# Index()\n",
    "jobs.index('programmer')"
   ]
  },
  {
   "cell_type": "markdown",
   "metadata": {},
   "source": [
    "## Множества"
   ]
  },
  {
   "cell_type": "markdown",
   "metadata": {},
   "source": [
    "Про множества на <a href=\"http://pythonworld.ru/tipy-dannyx-v-python/mnozhestva-set-i-frozenset.html\">Pythonworld</a>  \n",
    "Множество в Python содержит элементы в случайном порядке. Элементы повторяться не могут."
   ]
  },
  {
   "cell_type": "markdown",
   "metadata": {},
   "source": [
    "## Инициализация множества"
   ]
  },
  {
   "cell_type": "code",
   "execution_count": 71,
   "metadata": {},
   "outputs": [
    {
     "name": "stdout",
     "output_type": "stream",
     "text": [
      "{1, 4, 5, 23}\n",
      "{1, 5, 9}\n"
     ]
    }
   ],
   "source": [
    "set_1 = set([1,23,4,5])\n",
    "set_2 = {1,5,9}\n",
    "print(set_1)\n",
    "print(set_2)\n",
    "# we cannot initialize an empty set! and it looks like a dictionary but it is not"
   ]
  },
  {
   "cell_type": "code",
   "execution_count": 233,
   "metadata": {},
   "outputs": [
    {
     "name": "stdout",
     "output_type": "stream",
     "text": [
      "{0, 1, 64, 4, 36, 9, 16, 49, 81, 25}\n"
     ]
    }
   ],
   "source": [
    "my_set = {i**2 for i in range(10)}\n",
    "print(my_set)"
   ]
  },
  {
   "cell_type": "markdown",
   "metadata": {},
   "source": [
    "#### Основные методы для работы со множествами  \n",
    "\n",
    "- **len(set_1)** - длина множества\n",
    "- **set.issubset()** - является ли множество подмножеством другого\n",
    "- **set.union(set_1)** - объединение нескольких множеств\n",
    "- **set.intersection(set_1)** - пересечение нескольких множеств\n",
    "- **set.difference(set_1)** - множество из set не принадлежащих set_1\n",
    "- **set.symmetrci_difference(set_1)** - встречается в одном,но не в обоих\n",
    "- **set.add(elm)** - добавляем элемент в множество \n",
    "- **set.remove(elm)** - удаляем элемент из множества\n",
    "- **set.discard(elm)** - удаляет элемент, если он в множестве\n",
    "- **set.pop()** - удаляет первый элемент из множества\n",
    "- **set.clear()** - очистка всего множества"
   ]
  },
  {
   "cell_type": "markdown",
   "metadata": {},
   "source": [
    "***Длина множества len(set)***"
   ]
  },
  {
   "cell_type": "code",
   "execution_count": 236,
   "metadata": {},
   "outputs": [
    {
     "name": "stdout",
     "output_type": "stream",
     "text": [
      "10\n"
     ]
    }
   ],
   "source": [
    "print(len(my_set))"
   ]
  },
  {
   "cell_type": "markdown",
   "metadata": {},
   "source": [
    "***Является ли множество подмножеством другого set.issubset()***"
   ]
  },
  {
   "cell_type": "code",
   "execution_count": 237,
   "metadata": {},
   "outputs": [
    {
     "name": "stdout",
     "output_type": "stream",
     "text": [
      "True\n"
     ]
    }
   ],
   "source": [
    "print({10,15,17}.issubset({10,11,16,15,22,17}))"
   ]
  },
  {
   "cell_type": "markdown",
   "metadata": {},
   "source": [
    "***Объединение нескольких множеств .union()***"
   ]
  },
  {
   "cell_type": "code",
   "execution_count": 241,
   "metadata": {},
   "outputs": [
    {
     "data": {
      "text/plain": [
       "{1, 2, 3, 4, 5}"
      ]
     },
     "execution_count": 241,
     "metadata": {},
     "output_type": "execute_result"
    }
   ],
   "source": [
    "{1,3}.union({x for x in range(1,6)})"
   ]
  },
  {
   "cell_type": "markdown",
   "metadata": {},
   "source": [
    "***Пересечение нескольких множеств .intersection()***"
   ]
  },
  {
   "cell_type": "code",
   "execution_count": 243,
   "metadata": {},
   "outputs": [
    {
     "data": {
      "text/plain": [
       "{2, 3, 7}"
      ]
     },
     "execution_count": 243,
     "metadata": {},
     "output_type": "execute_result"
    }
   ],
   "source": [
    "{2,3,7}.intersection({x for x in range(10)})"
   ]
  },
  {
   "cell_type": "markdown",
   "metadata": {},
   "source": [
    "***Разница между множествами .difference()***"
   ]
  },
  {
   "cell_type": "code",
   "execution_count": 257,
   "metadata": {},
   "outputs": [
    {
     "data": {
      "text/plain": [
       "{0, 1, 4, 5, 7, 8, 9}"
      ]
     },
     "execution_count": 257,
     "metadata": {},
     "output_type": "execute_result"
    }
   ],
   "source": [
    "{x for x in range(10)}.difference({2,3,6})"
   ]
  },
  {
   "cell_type": "markdown",
   "metadata": {},
   "source": [
    "***Значения, встречающиеся в одном множестве,но не встречающиеся в обоих***"
   ]
  },
  {
   "cell_type": "code",
   "execution_count": 258,
   "metadata": {},
   "outputs": [
    {
     "data": {
      "text/plain": [
       "{1, 2, 3, 4, 5, 6}"
      ]
     },
     "execution_count": 258,
     "metadata": {},
     "output_type": "execute_result"
    }
   ],
   "source": [
    "{1,2,3,6}.symmetric_difference({4,5})"
   ]
  },
  {
   "cell_type": "markdown",
   "metadata": {},
   "source": [
    "***Добавление, удаление и очистка множества***"
   ]
  },
  {
   "cell_type": "code",
   "execution_count": 269,
   "metadata": {},
   "outputs": [
    {
     "name": "stdout",
     "output_type": "stream",
     "text": [
      "{0, 1, 2, 3, 4, 5, 6, 7, 8, 9, 10, 11}\n",
      "{0, 1, 2, 3, 4, 5, 6, 7, 8, 9, 10}\n",
      "{0, 1, 2, 3, 4, 5, 6, 7, 8, 9, 10}\n",
      "0\n",
      "{1, 2, 3, 4, 5, 6, 7, 8, 9, 10}\n",
      "set()\n"
     ]
    }
   ],
   "source": [
    "new_set = {x for x in range(11)}\n",
    "# Добавляем\n",
    "new_set.add(11)\n",
    "print(new_set)\n",
    "# Удаляем \n",
    "new_set.remove(11)\n",
    "print(new_set)\n",
    "# Удаляем если в множестве\n",
    "new_set.discard(11)\n",
    "print(new_set)\n",
    "# Удаляем \"первый\" элемент из множества\n",
    "extracted_elem = new_set.pop()\n",
    "print(extracted_elem)\n",
    "print(new_set)\n",
    "new_set.clear()\n",
    "print(new_set)"
   ]
  },
  {
   "cell_type": "markdown",
   "metadata": {},
   "source": [
    "## Frozenset\n",
    "frozenset - то же множество, только неизменяемое, т.е. нельзя добалять/удалять элементы"
   ]
  },
  {
   "cell_type": "code",
   "execution_count": 272,
   "metadata": {},
   "outputs": [],
   "source": [
    "fans = frozenset(['harry','mike','max'])"
   ]
  },
  {
   "cell_type": "markdown",
   "metadata": {},
   "source": [
    "## Словари  \n",
    "Словарь - это способ хранения информации, которая каким-то образом связана. Словари хранят информацию в виде пары *ключ - значение*, то есть, каждая часть информации соединена как минимум с одним значением.\n",
    "\n",
    "Словари не хранят информацию в каком-то определенном порядке, поэтому не факт, что вы получите информацию в том порядке, в котором вы ее добавили."
   ]
  },
  {
   "cell_type": "markdown",
   "metadata": {},
   "source": [
    "Простой пример использования словаря"
   ]
  },
  {
   "cell_type": "code",
   "execution_count": 1,
   "metadata": {},
   "outputs": [
    {
     "name": "stdout",
     "output_type": "stream",
     "text": [
      "\n",
      "Word: list\n",
      "Meaning: A collection of values that are not connected, but have an order.\n",
      "\n",
      "Word: dictionary\n",
      "Meaning: A collection of key-value pairs.\n",
      "\n",
      "Word: function\n",
      "Meaning: A named set of instructions that defines a set of actions in Python.\n"
     ]
    }
   ],
   "source": [
    "python_words = {'list': 'A collection of values that are not connected, but have an order.',\n",
    "                'dictionary': 'A collection of key-value pairs.',\n",
    "                'function': 'A named set of instructions that defines a set of actions in Python.',\n",
    "                }\n",
    "\n",
    "for word, meaning in python_words.items():\n",
    "    print(\"\\nWord: %s\" % word)\n",
    "    print(\"Meaning: %s\" % meaning)"
   ]
  },
  {
   "cell_type": "markdown",
   "metadata": {},
   "source": [
    "Общий синтаксис для использования цикла со словарем:"
   ]
  },
  {
   "cell_type": "code",
   "execution_count": null,
   "metadata": {},
   "outputs": [],
   "source": [
    "for key_name, value_name in dictionary_name.items():\n",
    "    print(key_name) # The key is stored in whatever you called the first variable.\n",
    "    print(value_name) # The value associated with that key is stored in your second variable."
   ]
  },
  {
   "cell_type": "code",
   "execution_count": 198,
   "metadata": {},
   "outputs": [],
   "source": [
    "people = {1:('Vlad',23,'Programmer'),\n",
    "          2:('Max',23,'Sportsman'),\n",
    "          3:('Dasha',22,'Mathematic') }"
   ]
  },
  {
   "cell_type": "markdown",
   "metadata": {},
   "source": [
    "***Основные методы***  \n",
    "- **dict.keys()** - возвращает ключи словаря\n",
    "- **dict.values()** - возвращает значения словаря\n",
    "- **dict.items()** - возвращает пару ключ-значение в виде кортежа\n",
    "- **del dict[ key ]** - удаление выбранного значения\n",
    "- **sorted(dict)** - сортируем словарь\n",
    "- **dict.clear()** - очистить весь словарь\n",
    "- **dict.copy()** - копируем словарь \n",
    "- **dict.fromkeys()** - создание словаря из указанных ключей\n",
    "- **dict.get( key )** - получение значения по ключу \n",
    "- **dict.pop( key )** - извлечение значения по указонному ключ(значение удаляется)\n",
    "- **dict.popitem()** - произвольно(рандомно) извлекает значение из dict\n",
    "- **dict.update()** - обновляет значение ключа"
   ]
  },
  {
   "cell_type": "markdown",
   "metadata": {},
   "source": [
    "**Получаем ключи, значения, элементы списка .keys() .values() .items()** "
   ]
  },
  {
   "cell_type": "code",
   "execution_count": 149,
   "metadata": {},
   "outputs": [
    {
     "name": "stdout",
     "output_type": "stream",
     "text": [
      "dict_keys([1, 2, 3])\n",
      "\n",
      "dict_values([('Vlad', 23, 'Programmer'), ('Max', 23, 'Sportsman'), ('Dasha', 22, 'Mathematic')])\n",
      "\n",
      "dict_items([(1, ('Vlad', 23, 'Programmer')), (2, ('Max', 23, 'Sportsman')), (3, ('Dasha', 22, 'Mathematic'))])\n"
     ]
    }
   ],
   "source": [
    "print(people.keys())\n",
    "print(\"\\n\"+str(people.values()))\n",
    "print(\"\\n\"+str(people.items()))"
   ]
  },
  {
   "cell_type": "markdown",
   "metadata": {},
   "source": [
    "***Удляем элемент из списка del***"
   ]
  },
  {
   "cell_type": "code",
   "execution_count": 156,
   "metadata": {},
   "outputs": [
    {
     "data": {
      "text/plain": [
       "{2: ('Max', 23, 'Sportsman'), 3: ('Dasha', 22, 'Mathematic')}"
      ]
     },
     "execution_count": 156,
     "metadata": {},
     "output_type": "execute_result"
    }
   ],
   "source": [
    "del people[1]\n",
    "people"
   ]
  },
  {
   "cell_type": "markdown",
   "metadata": {},
   "source": [
    "***Сортируем словарь sorted(dict)*** "
   ]
  },
  {
   "cell_type": "code",
   "execution_count": 158,
   "metadata": {},
   "outputs": [
    {
     "data": {
      "text/plain": [
       "{2: ('Max', 23, 'Sportsman'), 3: ('Dasha', 22, 'Mathematic')}"
      ]
     },
     "execution_count": 158,
     "metadata": {},
     "output_type": "execute_result"
    }
   ],
   "source": [
    "sorted(people)\n",
    "people"
   ]
  },
  {
   "cell_type": "markdown",
   "metadata": {},
   "source": [
    "***Получаем значение из словаря dict.get()*** "
   ]
  },
  {
   "cell_type": "code",
   "execution_count": 160,
   "metadata": {},
   "outputs": [
    {
     "data": {
      "text/plain": [
       "('Max', 23, 'Sportsman')"
      ]
     },
     "execution_count": 160,
     "metadata": {},
     "output_type": "execute_result"
    }
   ],
   "source": [
    "people.get(2)"
   ]
  },
  {
   "cell_type": "markdown",
   "metadata": {},
   "source": [
    "***Произвольно извлечение значение из словаря dict.popitem()*** "
   ]
  },
  {
   "cell_type": "code",
   "execution_count": 172,
   "metadata": {},
   "outputs": [
    {
     "name": "stdout",
     "output_type": "stream",
     "text": [
      "(2, ('Max', 23, 'Sportsman'))\n",
      "{1: ('Vlad', 23, 'Programmer')}\n"
     ]
    }
   ],
   "source": [
    "print(people.popitem())\n",
    "print(people)"
   ]
  },
  {
   "cell_type": "markdown",
   "metadata": {},
   "source": [
    "***Извлечение по значению dict.pop()*** "
   ]
  },
  {
   "cell_type": "code",
   "execution_count": 178,
   "metadata": {},
   "outputs": [
    {
     "name": "stdout",
     "output_type": "stream",
     "text": [
      "('Vlad', 23, 'Programmer')\n",
      "{2: ('Max', 23, 'Sportsman'), 3: ('Dasha', 22, 'Mathematic')}\n"
     ]
    }
   ],
   "source": [
    "print(people.pop(1))\n",
    "print(people)"
   ]
  },
  {
   "cell_type": "markdown",
   "metadata": {},
   "source": [
    "***Обновляем значение по ключу dict.update()*** "
   ]
  },
  {
   "cell_type": "code",
   "execution_count": 186,
   "metadata": {},
   "outputs": [
    {
     "data": {
      "text/plain": [
       "{1: ('Ronald', 16, 'Teacher'),\n",
       " 2: ('Max', 23, 'Sportsman'),\n",
       " 3: ('Dasha', 22, 'Mathematic')}"
      ]
     },
     "execution_count": 186,
     "metadata": {},
     "output_type": "execute_result"
    }
   ],
   "source": [
    "people.update({1:('Ronald',16,'Teacher')})\n",
    "people"
   ]
  },
  {
   "cell_type": "markdown",
   "metadata": {},
   "source": [
    "Стандартные операции со словарями\n",
    "===\n",
    "Есть ряд стандартных операций: добавление, изменение и удаление"
   ]
  },
  {
   "cell_type": "markdown",
   "metadata": {},
   "source": [
    "Добавление новой пары\n",
    "---\n",
    "Для добавления новой пары необходимо к имени словаря в квадратных скобках вписать новый ключ и присвоить величину, с которой хотите связать ключ. Начнем с пустого словаря."
   ]
  },
  {
   "cell_type": "code",
   "execution_count": 195,
   "metadata": {},
   "outputs": [
    {
     "data": {
      "text/plain": [
       "{'list': 'A collection of values that are not connected, but have an order.',\n",
       " 'dictionary': 'A collection of key-value pairs.',\n",
       " 'function': 'A named set of instructions that defines a set of actions in Python.',\n",
       " 'cycles': 'might be for,while'}"
      ]
     },
     "execution_count": 195,
     "metadata": {},
     "output_type": "execute_result"
    }
   ],
   "source": [
    "python_words['cycles'] = 'might be for,while'\n",
    "python_words"
   ]
  },
  {
   "cell_type": "markdown",
   "metadata": {},
   "source": [
    "Изменение значения\n",
    "---\n",
    "В какой-то момент приходится изменять значения в словаре. Изменение значения очень похоже на изменени элемента списка. Имя словаря[ключ] и присваиваем новое значение"
   ]
  },
  {
   "cell_type": "code",
   "execution_count": 196,
   "metadata": {},
   "outputs": [
    {
     "data": {
      "text/plain": [
       "{'list': 'A collection of values that are not connected, but have an order.',\n",
       " 'dictionary': 'A collection of key-value pairs.',\n",
       " 'function': 'Just a powerful tool for building math and logic',\n",
       " 'cycles': 'might be for,while'}"
      ]
     },
     "execution_count": 196,
     "metadata": {},
     "output_type": "execute_result"
    }
   ],
   "source": [
    "python_words['function'] = 'Just a powerful tool for building math and logic'\n",
    "python_words"
   ]
  },
  {
   "cell_type": "markdown",
   "metadata": {},
   "source": [
    "Изменяем ключи\n",
    "---\n",
    "Изменение ключа делается следующим способом:\n",
    "\n",
    "- Создать новый ключ и скопировать значение к новому ключу.\n",
    "- Удалить старый ключ, который удалит и значение.\n",
    "\n",
    "Посмотрим как это выглядит на примере. "
   ]
  },
  {
   "cell_type": "code",
   "execution_count": 197,
   "metadata": {},
   "outputs": [
    {
     "data": {
      "text/plain": [
       "{'list': 'A collection of values that are not connected, but have an order.',\n",
       " 'dictionary': 'A collection of key-value pairs.',\n",
       " 'cycles': 'might be for,while',\n",
       " 'func': 'Just a powerful tool for building math and logic'}"
      ]
     },
     "execution_count": 197,
     "metadata": {},
     "output_type": "execute_result"
    }
   ],
   "source": [
    "python_words['func'] = python_words['function']\n",
    "del python_words['function']\n",
    "python_words"
   ]
  },
  {
   "cell_type": "markdown",
   "metadata": {},
   "source": [
    "Цикл по словарю\n",
    "===\n",
    "После добавления значени часто приходится что-то искать или выводить добавленные в словарь значения. Эти действия можно сделать несколькими способами:\n",
    "\n",
    "- Цикл через все пары;\n",
    "- Цикл по ключам;\n",
    "- Цикл по значениям."
   ]
  },
  {
   "cell_type": "markdown",
   "metadata": {},
   "source": [
    "***Цикл через все пары***"
   ]
  },
  {
   "cell_type": "code",
   "execution_count": 227,
   "metadata": {},
   "outputs": [
    {
     "name": "stdout",
     "output_type": "stream",
     "text": [
      "\n",
      "Key: 1\n",
      "Values: Vlad 23 Programmer\n",
      "\n",
      "Key: 2\n",
      "Values: Max 23 Sportsman\n",
      "\n",
      "Key: 3\n",
      "Values: Dasha 22 Mathematic\n"
     ]
    }
   ],
   "source": [
    "for key,value in people.items():\n",
    "    print('\\nKey: %s' %key)\n",
    "    print('Values: %s %s %s' %(value[0],value[1],value[2]))"
   ]
  },
  {
   "cell_type": "markdown",
   "metadata": {},
   "source": [
    "Это работает потому, что используется метод `.items()`, который вытаскивает пары в виде кортежей:"
   ]
  },
  {
   "cell_type": "markdown",
   "metadata": {},
   "source": [
    "Цикл по ключам\n",
    "---\n",
    "Python предоставляет инструмент для прохождения только по ключам словаря:"
   ]
  },
  {
   "cell_type": "code",
   "execution_count": 228,
   "metadata": {},
   "outputs": [
    {
     "name": "stdout",
     "output_type": "stream",
     "text": [
      "Key: 1\n",
      "Key: 2\n",
      "Key: 3\n"
     ]
    }
   ],
   "source": [
    "for key in people.keys():\n",
    "    print('Key: %s' %key)"
   ]
  },
  {
   "cell_type": "markdown",
   "metadata": {},
   "source": [
    "Цикл по значениям\n",
    "---\n",
    "Python также позволяет проходить по значениям словаря:"
   ]
  },
  {
   "cell_type": "code",
   "execution_count": 232,
   "metadata": {},
   "outputs": [
    {
     "name": "stdout",
     "output_type": "stream",
     "text": [
      "('Vlad', 23, 'Programmer')\n",
      "('Max', 23, 'Sportsman')\n",
      "('Dasha', 22, 'Mathematic')\n"
     ]
    }
   ],
   "source": [
    "for value in people.values():\n",
    "    print(value)"
   ]
  },
  {
   "cell_type": "markdown",
   "metadata": {},
   "source": [
    "### Немного порядка\n",
    "\n",
    "Проблемой словарей является то, что связанные значения не отсортированы в каком-либо порядке. Когда вы достаете ключи или значение, вы никогда не знаете, в каком порядке их получите. Для сортированного списка необходимо сипользовать метод **sorted** или другую структуру данных **OrderedDict**"
   ]
  },
  {
   "cell_type": "code",
   "execution_count": 2,
   "metadata": {},
   "outputs": [
    {
     "name": "stdout",
     "output_type": "stream",
     "text": [
      "dictionary\n",
      "function\n",
      "list\n"
     ]
    }
   ],
   "source": [
    "for word in sorted(python_words.keys()):\n",
    "    print(word)"
   ]
  },
  {
   "cell_type": "markdown",
   "metadata": {},
   "source": [
    "Nesting\n",
    "===\n",
    "Nesting - одна из самых мощных концепций в Python. В данном случае она позволяет завернуть один словарь внутрь другого. Мы рассмотрим два примера: списки внутри словаря и словарь внутри словаря. Таким способом можно расширять имеющиеся структуры данных и полностью пересмотреть подход к организации данных."
   ]
  },
  {
   "cell_type": "markdown",
   "metadata": {},
   "source": [
    "Важное замечание о nesting\n",
    "---\n",
    "Вложения на 1-2 уровня могут быть очень удобны, но это становится плохо читаемым, если слишком увлекаеться таким подходом. Если у вас большая глубина вложений - задумайтесь, возможно, вы используете неправильный способ хранения информации. Для очень сложных разветвленных типов существуют классы и базы данных, которые позволяют сохранять сложную связанную информацию и взаимодействовать с ней.\n",
    "\n",
    "Чаще всего вы частично извлекаете информацию из базы данных и упаковываете её в словарь, нежели используете струтуры глубокой вложенности."
   ]
  },
  {
   "cell_type": "code",
   "execution_count": 52,
   "metadata": {},
   "outputs": [
    {
     "name": "stdout",
     "output_type": "stream",
     "text": [
      "The information about Wille\n",
      "Kind:Dog\n",
      "Owner:Vlad\n",
      "Vaccinated:True\n",
      "The information about Simka\n",
      "Kind:Cat\n",
      "Owner:Dasha\n",
      "Vaccinated:False\n",
      "The information about Kesha\n",
      "Kind:Parrot\n",
      "Owner:Nastia\n",
      "Vaccinated:False\n"
     ]
    }
   ],
   "source": [
    "# Initialize nested dictionary\n",
    "pets = {'wille':{'kind':'dog','owner':'vlad','vaccinated':True},\n",
    "        'simka':{'kind':'cat','owner':'dasha','vaccinated':False},\n",
    "        'kesha': {'kind':'parrot','owner':'nastia','vaccinated':False}\n",
    "       }\n",
    "# Show the information about each pet\n",
    "for pet_name, pet_info in pets.items():\n",
    "    print('The information about %s' %pet_name.title())\n",
    "    for add_info in pets[pet_name].keys():\n",
    "        \n",
    "        if type(pet_info[add_info]) is bool:\n",
    "            print('%s:%s' %(add_info.title(), pet_info[add_info]))\n",
    "        else:\n",
    "            print('%s:%s' %(add_info.title(), pet_info[add_info].title()))\n",
    "            #print(f'{add_info}'+':'+f'{pet_info[add_info]}')"
   ]
  },
  {
   "cell_type": "markdown",
   "metadata": {},
   "source": [
    "# Полезные ссылки\n",
    " - Детальный анализ словаря Python как структуры данных на <a href=\"http://habrahabr.ru/post/247843/\">Хабрахабре</a> \n",
    " - Краткое введение в списки, кортежи, словари и файлы на <a href=\"http://habrahabr.ru/post/30092/\">Хабрахабре</a>"
   ]
  },
  {
   "cell_type": "markdown",
   "metadata": {},
   "source": [
    "### Файлы\n",
    "#### Методы для работы с файлами\n",
    "- **file.close()** - закрывает открытый файл \n",
    "- **file.closed()** - Возвращает True если файл был закрыт\n",
    "- **file.mode()** - Возвращает режим доступа, с которым был открыт файл\n",
    "- **file.name()** - Возвращает имя файла\n",
    "- **file.softspace()** - Возвращает False если при выводе содержимого файла следует отдельно добавлять пробел\n",
    "- **file.write(str)** - Записывает любую строку в открытый файл \n",
    "- **file.read(size)** - Чтение символов (по умолчанию считает все символы)\n",
    "- **file.readline()** - Построчное чтение ( можно указать размер строк)\n",
    "- **file.readlines()** - Чтение всех строк\n",
    "- **file.tell()** - Указывает позицию указателя (или место где мы находимся в файле)\n",
    "- **file.seek(offset,[from])** - Переход на нужную позицию ( from: 0 - начало файла,1 - текущая позиция,2 - конец файла) \n",
    "- **file.decode()/file.encode()** - кодирование/декодирование файла\n",
    "- **os.rename(file,new_name)** - переименовывание файла\n",
    "- **file.isatty()** - возвращает True, если файл привязан к терминалу\n",
    "- **file.next()** - возвращает следующую строку файла\n",
    "- **file.flush()** - очищает внутренний буфер\n",
    "- **file.fileno()** - возвращает целочисленный дескриптор файла\n",
    "- **file.seekable()** - проверяет, поддерживает ли файл случайный доступ. Возвращает True, если да\n",
    "- **file.truncate(n)** - уменьшает размер файл. Если n указано, то файл обрезается до n байт, если нет — до текущей позиции\n",
    "- **file.writelines()** - добавляет последовательность строк в файл\n",
    "!!! Для расширенной работы с файлами необходимо использовать билиотеку **os**\n",
    "\n",
    "#### Режимы работы с файлами \n",
    "- **w** - запись (удалит всю информацию в файле и запишет новую).Если файла не существует, то он будет создан \n",
    "- **w+** - режим чтения и записи \n",
    "- **a** - добавление новой информации (append). Добавит новую информацию в конец файла\n",
    "- **a+** - добавление и чтение\n",
    "- **r** - только режим чтения файла\n",
    "- **r+** - режим чтения и записи "
   ]
  },
  {
   "cell_type": "code",
   "execution_count": 60,
   "metadata": {},
   "outputs": [
    {
     "name": "stdout",
     "output_type": "stream",
     "text": [
      "['last_name', 'age', 'debt', 'occupation']\n",
      "['bazarov', '24', '30000', 'basketball']\n",
      "['raskoshinskii', '24', '14000', 'powerlifting']\n",
      "['morozov', '24', '10000', 'programming']\n"
     ]
    }
   ],
   "source": [
    "credit_file = open('C:/Users/vladislav/Python files/debts.txt','r')\n",
    "for line in credit_file:\n",
    "    line = line.strip().split(',')\n",
    "    print(line)\n",
    "credit_file.close()"
   ]
  },
  {
   "cell_type": "code",
   "execution_count": 65,
   "metadata": {},
   "outputs": [
    {
     "name": "stdout",
     "output_type": "stream",
     "text": [
      "{'bazarov': (24, 30000, 'basketball'), 'raskoshinskii': (24, 14000, 'powerlifting'), 'morozov': (24, 10000, 'programming')}\n"
     ]
    }
   ],
   "source": [
    "credit_file = open('C:/Users/vladislav/Python files/debts.txt','r')\n",
    "first_line = credit_file.readline()\n",
    "\n",
    "credit_dict = {}\n",
    "\n",
    "for line in credit_file:\n",
    "    last_name, age, debt, occupation = line.strip().split(',')\n",
    "    credit_dict[last_name] = (int(age),int(debt),occupation)\n",
    "\n",
    "print(credit_dict)\n",
    "credit_file.close()"
   ]
  },
  {
   "cell_type": "code",
   "execution_count": 68,
   "metadata": {},
   "outputs": [
    {
     "name": "stdout",
     "output_type": "stream",
     "text": [
      "Input new debt information: michailov,24,100,analyst\n",
      "Input new debt information: stop\n",
      "{'bazarov': (24, 30000, 'basketball'), 'raskoshinskii': (24, 14000, 'powerlifting'), 'morozov': (24, 10000, 'programming'), 'michailov': (24, 100, 'analyst')}\n"
     ]
    }
   ],
   "source": [
    "line = ''\n",
    "while line != 'stop':\n",
    "    line = input('Input new debt information: ').strip()\n",
    "    if line == 'stop':\n",
    "        break\n",
    "    else:\n",
    "        last_name, age, debt, occupation = line.split(',')\n",
    "        credit_dict[last_name] = (int(age),int(debt),occupation)\n",
    "print(credit_dict)"
   ]
  }
 ],
 "metadata": {
  "kernelspec": {
   "display_name": "Python 3",
   "language": "python",
   "name": "python3"
  },
  "language_info": {
   "codemirror_mode": {
    "name": "ipython",
    "version": 3
   },
   "file_extension": ".py",
   "mimetype": "text/x-python",
   "name": "python",
   "nbconvert_exporter": "python",
   "pygments_lexer": "ipython3",
   "version": "3.6.1"
  }
 },
 "nbformat": 4,
 "nbformat_minor": 2
}
