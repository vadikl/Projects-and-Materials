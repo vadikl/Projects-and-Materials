{
 "cells": [
  {
   "cell_type": "markdown",
   "metadata": {},
   "source": [
    "### NumPy"
   ]
  },
  {
   "cell_type": "code",
   "execution_count": 1,
   "metadata": {},
   "outputs": [],
   "source": [
    "import numpy as np"
   ]
  },
  {
   "cell_type": "markdown",
   "metadata": {},
   "source": [
    "**Некоторые отличия NumPy и List**"
   ]
  },
  {
   "cell_type": "code",
   "execution_count": 3,
   "metadata": {},
   "outputs": [
    {
     "name": "stdout",
     "output_type": "stream",
     "text": [
      "<class 'numpy.ndarray'>\n",
      "<class 'list'>\n"
     ]
    }
   ],
   "source": [
    "array = np.array([1,2,3,4])\n",
    "lst = [1,2,3]\n",
    "\n",
    "print(type(array))\n",
    "print(type(lst))"
   ]
  },
  {
   "cell_type": "markdown",
   "metadata": {},
   "source": [
    "Отличие в срезах"
   ]
  },
  {
   "cell_type": "code",
   "execution_count": 12,
   "metadata": {},
   "outputs": [
    {
     "name": "stdout",
     "output_type": "stream",
     "text": [
      "[2 3 4]\n",
      "[3 4]\n"
     ]
    }
   ],
   "source": [
    "print(array[[1,2,3]]) # NumPy можем передавать сразу несколько индексов, в list нельзя\n",
    "print(array[array>=3]) # Можем применять так называемую Boolean Mask"
   ]
  },
  {
   "cell_type": "markdown",
   "metadata": {},
   "source": [
    "Умножение на скаляр"
   ]
  },
  {
   "cell_type": "code",
   "execution_count": 13,
   "metadata": {},
   "outputs": [
    {
     "name": "stdout",
     "output_type": "stream",
     "text": [
      "[10 20 30 40]\n",
      "[1, 2, 3, 1, 2, 3, 1, 2, 3]\n"
     ]
    }
   ],
   "source": [
    "print(array*10) # все значения умножатся на 10\n",
    "print(lst*3) # получим список который будет содержать исходный, но продублированный 3 раза"
   ]
  },
  {
   "cell_type": "markdown",
   "metadata": {},
   "source": [
    "Возведение в степень"
   ]
  },
  {
   "cell_type": "code",
   "execution_count": 15,
   "metadata": {},
   "outputs": [
    {
     "name": "stdout",
     "output_type": "stream",
     "text": [
      "[ 1  4  9 16]\n"
     ]
    }
   ],
   "source": [
    "print(array**2) # возведет каждое значение в квадрат, а в случае списка не отработает"
   ]
  },
  {
   "cell_type": "markdown",
   "metadata": {},
   "source": [
    "Создание последовательностей"
   ]
  },
  {
   "cell_type": "code",
   "execution_count": 19,
   "metadata": {},
   "outputs": [
    {
     "name": "stdout",
     "output_type": "stream",
     "text": [
      "1.14 µs ± 23 ns per loop (mean ± std. dev. of 7 runs, 1000000 loops each)\n",
      "194 ns ± 2.18 ns per loop (mean ± std. dev. of 7 runs, 10000000 loops each)\n"
     ]
    }
   ],
   "source": [
    "%timeit np.arange(10**3) # шаг может быть и не целочисленным\n",
    "%timeit range(10**3) # range должен иметь целочисленный шаг"
   ]
  },
  {
   "cell_type": "markdown",
   "metadata": {},
   "source": [
    "### Scipy"
   ]
  },
  {
   "cell_type": "code",
   "execution_count": 20,
   "metadata": {},
   "outputs": [],
   "source": [
    "from scipy import optimize"
   ]
  },
  {
   "cell_type": "markdown",
   "metadata": {},
   "source": [
    "Используя модуль ```optimize``` можем оптимизировать различные функции"
   ]
  },
  {
   "cell_type": "code",
   "execution_count": 21,
   "metadata": {},
   "outputs": [
    {
     "name": "stdout",
     "output_type": "stream",
     "text": [
      "Fucntion Min:  10.0\n"
     ]
    }
   ],
   "source": [
    "# Создаем функцию для которой нам будет ясен её минимум (3.1,0.1)\n",
    "def f(x):\n",
    "    return (x[0] - 3.1)**2 + (x[1] - 0.1)**2 + 10\n",
    "\n",
    "print('Fucntion Min: ', f([3.1,0.1]))"
   ]
  },
  {
   "cell_type": "code",
   "execution_count": 28,
   "metadata": {},
   "outputs": [
    {
     "name": "stdout",
     "output_type": "stream",
     "text": [
      "Function Min: 10.0000\n",
      "Values:  [3.09999994 0.10000011]\n"
     ]
    }
   ],
   "source": [
    "# Допустим, функция очень сложная и мы не знаем минимум функции. Можем легко найти воспользовавшись optimize\n",
    "# Зададим начальное приближение (вектор с которого начнется оптимизация)\n",
    "initial_points = [5,5]\n",
    "\n",
    "# Находим min функции\n",
    "min_x = optimize.minimize(f, initial_points)\n",
    "print('Function Min: %.4f' %min_x.fun)\n",
    "print('Values: ', min_x.x)"
   ]
  },
  {
   "cell_type": "markdown",
   "metadata": {},
   "source": [
    "Другой вариант использования SciPy - решение систем уравнений (линейная алгебра)"
   ]
  },
  {
   "cell_type": "code",
   "execution_count": 29,
   "metadata": {},
   "outputs": [],
   "source": [
    "from scipy import linalg"
   ]
  },
  {
   "cell_type": "code",
   "execution_count": 32,
   "metadata": {},
   "outputs": [
    {
     "name": "stdout",
     "output_type": "stream",
     "text": [
      "[ 2. -2.  9.]\n"
     ]
    }
   ],
   "source": [
    "# Марица системы уравнений\n",
    "a = np.array([\n",
    "    [3,2,0],\n",
    "    [1,-1,0],\n",
    "    [0,5,1]\n",
    "])\n",
    "\n",
    "# Вектор ответов\n",
    "b = np.array([2,4,-1])\n",
    "\n",
    "# Решение системы\n",
    "x = linalg.solve(a,b)\n",
    "print(res)"
   ]
  },
  {
   "cell_type": "code",
   "execution_count": 33,
   "metadata": {},
   "outputs": [
    {
     "data": {
      "text/plain": [
       "array([ 2.,  4., -1.])"
      ]
     },
     "execution_count": 33,
     "metadata": {},
     "output_type": "execute_result"
    }
   ],
   "source": [
    "# Можем проверить наше решение\n",
    "np.dot(a,x)"
   ]
  },
  {
   "cell_type": "markdown",
   "metadata": {},
   "source": [
    "Матричные разложения. Например, сингулярное разложение или SVD"
   ]
  },
  {
   "cell_type": "code",
   "execution_count": 37,
   "metadata": {},
   "outputs": [
    {
     "name": "stdout",
     "output_type": "stream",
     "text": [
      "(4, 4) (3,) (3, 3)\n"
     ]
    }
   ],
   "source": [
    "# Сгенерируем матрицу из случайных чисел\n",
    "matrix = np.random.randn(4,3)\n",
    "\n",
    "# Разложим ее на 3 матрицы\n",
    "U, D, V = linalg.svd(matrix)\n",
    "print(U.shape, D.shape, V.shape)"
   ]
  }
 ],
 "metadata": {
  "kernelspec": {
   "display_name": "Python 3",
   "language": "python",
   "name": "python3"
  },
  "language_info": {
   "codemirror_mode": {
    "name": "ipython",
    "version": 3
   },
   "file_extension": ".py",
   "mimetype": "text/x-python",
   "name": "python",
   "nbconvert_exporter": "python",
   "pygments_lexer": "ipython3",
   "version": "3.7.9"
  }
 },
 "nbformat": 4,
 "nbformat_minor": 4
}
