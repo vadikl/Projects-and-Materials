{
 "cells": [
  {
   "cell_type": "markdown",
   "metadata": {},
   "source": [
    "### Решение оптимизационных задач SciPy"
   ]
  },
  {
   "cell_type": "code",
   "execution_count": 2,
   "metadata": {},
   "outputs": [],
   "source": [
    "from scipy import optimize"
   ]
  },
  {
   "cell_type": "code",
   "execution_count": 3,
   "metadata": {},
   "outputs": [],
   "source": [
    "# Определим фунцию на которой будем все тестирвоать (функция розенброка)\n",
    "def f(x):\n",
    "    return 5 *(1-x[0])**2 + (x[1] - x[0]**2)**2\n",
    "\n",
    "# Минимум данной функции находиться в продолговатом желобе который не просто найти (значение (1,1))"
   ]
  },
  {
   "cell_type": "markdown",
   "metadata": {},
   "source": [
    "Примитивный метод: перебор"
   ]
  },
  {
   "cell_type": "code",
   "execution_count": 5,
   "metadata": {},
   "outputs": [
    {
     "name": "stdout",
     "output_type": "stream",
     "text": [
      "[1.00001461 1.00002194]\n"
     ]
    }
   ],
   "source": [
    "res = optimize.brute(f, ((-5,5),(-5,5)))\n",
    "print(res)"
   ]
  },
  {
   "cell_type": "markdown",
   "metadata": {},
   "source": [
    "Если функция негладкая и имеются разрывы, то неплохим методом модет быть **дифференциальная эволюция (генетический алгоритм)**"
   ]
  },
  {
   "cell_type": "code",
   "execution_count": 7,
   "metadata": {},
   "outputs": [
    {
     "name": "stdout",
     "output_type": "stream",
     "text": [
      "     fun: 2.9582283945787943e-31\n",
      " message: 'Optimization terminated successfully.'\n",
      "    nfev: 3333\n",
      "     nit: 110\n",
      " success: True\n",
      "       x: array([1., 1.])\n"
     ]
    }
   ],
   "source": [
    "res = optimize.differential_evolution(f, ((-5,5),(-5,5)))\n",
    "print(res)"
   ]
  },
  {
   "cell_type": "markdown",
   "metadata": {},
   "source": [
    "Минимум был найден, однако потребывалось не малое количество итераций: 110. Иногда, число итераций может быть очень важным фактором.\n",
    "\n",
    "Если функция имеет градиент, то можно воспользоваться **градиентными методами**"
   ]
  },
  {
   "cell_type": "code",
   "execution_count": 28,
   "metadata": {},
   "outputs": [],
   "source": [
    "import numpy as np\n",
    "\n",
    "# Определим градиент функции розенброка\n",
    "def g(x):\n",
    "    return np.array((-2*0.5*(1-x[0]) - 4*x[0]*(x[1] - x[0]**2), 2*(x[1] - x[0]**2)))"
   ]
  },
  {
   "cell_type": "markdown",
   "metadata": {},
   "source": [
    "Возможно определенный нами градиент неверен, на этот случай есть функция ```check_grad()``` проверяющая соответствие между истинным градиентом функции и найденный нами"
   ]
  },
  {
   "cell_type": "code",
   "execution_count": 30,
   "metadata": {},
   "outputs": [
    {
     "name": "stdout",
     "output_type": "stream",
     "text": [
      "9.000000238418579\n"
     ]
    }
   ],
   "source": [
    "print(optimize.check_grad(f, g, [2,2]))"
   ]
  },
  {
   "cell_type": "markdown",
   "metadata": {},
   "source": [
    "Видим, что расхождение не малое, но в пределах нормы. Один из популярных градиентных методов ```bfgs()```"
   ]
  },
  {
   "cell_type": "code",
   "execution_count": 31,
   "metadata": {},
   "outputs": [
    {
     "name": "stdout",
     "output_type": "stream",
     "text": [
      "Optimization terminated successfully.\n",
      "         Current function value: 0.000000\n",
      "         Iterations: 8\n",
      "         Function evaluations: 9\n",
      "         Gradient evaluations: 9\n",
      "[1.00001245 1.00002597]\n"
     ]
    }
   ],
   "source": [
    "res = optimize.fmin_bfgs(f, [2,2], fprime=g) # fprime - градиент\n",
    "print(res)"
   ]
  },
  {
   "cell_type": "markdown",
   "metadata": {},
   "source": [
    "Видно, что градиентные методы позволяют существенно быстрей осуществить оптимизацию функций. Поэтому если функция гладкая, то лучше использовать градиентные методы, иначе неградиентные. Воспользуемся методом ```minimize()```"
   ]
  },
  {
   "cell_type": "code",
   "execution_count": 33,
   "metadata": {},
   "outputs": [
    {
     "name": "stdout",
     "output_type": "stream",
     "text": [
      "      fun: 1.4104470358988942e-15\n",
      " hess_inv: array([[0.09998587, 0.20001781],\n",
      "       [0.20001781, 0.89991211]])\n",
      "      jac: array([-2.70582226e-10, -1.76561210e-10])\n",
      "  message: 'Optimization terminated successfully.'\n",
      "     nfev: 24\n",
      "      nit: 7\n",
      "     njev: 8\n",
      "   status: 0\n",
      "  success: True\n",
      "        x: array([0.99999998, 0.99999996])\n"
     ]
    }
   ],
   "source": [
    "# minimize по умолчанию\n",
    "res = optimize.minimize(f, [2,2])\n",
    "print(res)"
   ]
  },
  {
   "cell_type": "code",
   "execution_count": 34,
   "metadata": {},
   "outputs": [
    {
     "name": "stdout",
     "output_type": "stream",
     "text": [
      "      fun: 7.761940447549734e-10\n",
      " hess_inv: array([[0.92044459, 1.83416471],\n",
      "       [1.83416471, 4.15430675]])\n",
      "      jac: array([8.18511160e-06, 2.13259657e-06])\n",
      "  message: 'Optimization terminated successfully.'\n",
      "     nfev: 9\n",
      "      nit: 8\n",
      "     njev: 9\n",
      "   status: 0\n",
      "  success: True\n",
      "        x: array([1.00001245, 1.00002597])\n"
     ]
    }
   ],
   "source": [
    "# minimize c параметрами\n",
    "res = optimize.minimize(f, [2,2], method='BFGS', jac=g)\n",
    "print(res)"
   ]
  },
  {
   "cell_type": "markdown",
   "metadata": {},
   "source": [
    "Другой неплохой метод это метод **Nelder Mead**"
   ]
  },
  {
   "cell_type": "code",
   "execution_count": 35,
   "metadata": {},
   "outputs": [
    {
     "name": "stdout",
     "output_type": "stream",
     "text": [
      " final_simplex: (array([[1.00000795, 0.99997549],\n",
      "       [0.99997041, 0.99990086],\n",
      "       [0.99997159, 1.00003024]]), array([1.94877855e-09, 5.97464432e-09, 1.16128206e-08]))\n",
      "           fun: 1.948778549145414e-09\n",
      "       message: 'Optimization terminated successfully.'\n",
      "          nfev: 78\n",
      "           nit: 42\n",
      "        status: 0\n",
      "       success: True\n",
      "             x: array([1.00000795, 0.99997549])\n"
     ]
    }
   ],
   "source": [
    "res = optimize.minimize(f, [2,2], method='Nelder-Mead')\n",
    "print(res)"
   ]
  }
 ],
 "metadata": {
  "kernelspec": {
   "display_name": "Python 3",
   "language": "python",
   "name": "python3"
  },
  "language_info": {
   "codemirror_mode": {
    "name": "ipython",
    "version": 3
   },
   "file_extension": ".py",
   "mimetype": "text/x-python",
   "name": "python",
   "nbconvert_exporter": "python",
   "pygments_lexer": "ipython3",
   "version": "3.7.9"
  }
 },
 "nbformat": 4,
 "nbformat_minor": 4
}
